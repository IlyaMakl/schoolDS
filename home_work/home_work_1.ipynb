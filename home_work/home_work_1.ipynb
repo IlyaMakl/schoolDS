{
 "cells": [
  {
   "cell_type": "code",
   "execution_count": 3,
   "id": "d0155ad3-625d-483f-abbe-25ca5c7e04bd",
   "metadata": {},
   "outputs": [],
   "source": [
    "import requests\n",
    "import pandas as pd"
   ]
  },
  {
   "cell_type": "code",
   "execution_count": 18,
   "id": "65a9854c-6eca-4a47-a4a9-184a5a6b3501",
   "metadata": {
    "scrolled": true
   },
   "outputs": [
    {
     "name": "stdout",
     "output_type": "stream",
     "text": [
      "\n",
      "                              Preparing to collect information from pages..\n",
      "The absolute path to the file: \n",
      "C:\\Users\\ilyam\\Desktop\\КурсШколаДС\\schoolDS\\home_work1\\cian_flat_sale_1_50_moskva_07_Jul_2024_23_58_16_585203.csv \n",
      "\n",
      "The page from which the collection of information begins: \n",
      " https://cian.ru/cat.php?engine_version=2&p=1&with_neighbors=0&region=1&deal_type=sale&offer_type=flat&room1=1&room2=1\n",
      "\n",
      "Collecting information from pages with list of offers\n",
      " 1 | 1 page with list: [=>=>=>=>=>=>=>=>=>=>=>=>=>=>=>=>=>=>=>=>=>=>=>=>=>=>=>=>] 100% | Count of all parsed: 28. Progress ratio: 2 %. Average price: 255 362 511 rub\n",
      " 2 | 2 page with list: [=>=>=>=>=>=>=>=>=>=>=>=>=>=>=>=>=>=>=>=>=>=>=>=>=>=>=>=>] 100% | Count of all parsed: 56. Progress ratio: 4 %. Average price: 276 204 296 rub\n",
      " 3 | 3 page with list: [=>=>=>=>=>=>=>=>=>=>=>=>=>=>=>=>=>=>=>=>=>=>=>=>=>=>=>=>] 100% | Count of all parsed: 84. Progress ratio: 6 %. Average price: 290 873 929 rub\n",
      " 4 | 4 page with list: [=>=>=>=>=>=>=>=>=>=>=>=>=>=>=>=>=>=>=>=>=>=>=>=>=>=>=>=>] 100% | Count of all parsed: 112. Progress ratio: 8 %. Average price: 307 887 868 rub\n",
      " 5 | 5 page with list: [=>=>=>=>=>=>=>=>=>=>=>=>=>=>=>=>=>=>=>=>=>=>=>=>=>=>=>=>] 100% | Count of all parsed: 140. Progress ratio: 10 %. Average price: 317 437 312 rub\n",
      " 6 | 6 page with list: [=>=>=>=>=>=>=>=>=>=>=>=>=>=>=>=>=>=>=>=>=>=>=>=>=>=>=>=>] 100% | Count of all parsed: 168. Progress ratio: 12 %. Average price: 323 908 484 rub\n",
      " 7 | 7 page with list: [=>=>=>=>=>=>=>=>=>=>=>=>=>=>=>=>=>=>=>=>=>=>=>=>=>=>=>=>] 100% | Count of all parsed: 196. Progress ratio: 14 %. Average price: 330 305 493 rub\n",
      " 8 | 8 page with list: [=>=>=>=>=>=>=>=>=>=>=>=>=>=>=>=>=>=>=>=>=>=>=>=>=>=>=>=>] 100% | Count of all parsed: 224. Progress ratio: 16 %. Average price: 334 953 893 rub\n",
      " 9 | 9 page with list: [=>=>=>=>=>=>=>=>=>=>=>=>=>=>=>=>=>=>=>=>=>=>=>=>=>=>=>=>] 100% | Count of all parsed: 252. Progress ratio: 18 %. Average price: 338 650 287 rub\n",
      " 10 | 10 page with list: [=>=>=>=>=>=>=>=>=>=>=>=>=>=>=>=>=>=>=>=>=>=>=>=>=>=>=>=>] 100% | Count of all parsed: 280. Progress ratio: 20 %. Average price: 343 077 463 rub\n",
      " 11 | 11 page with list: [=>=>=>=>=>=>=>=>=>=>=>=>=>=>=>=>=>=>=>=>=>=>=>=>=>=>=>=>] 100% | Count of all parsed: 308. Progress ratio: 22 %. Average price: 347 317 658 rub\n",
      " 12 | 12 page with list: [=>=>=>=>=>=>=>=>=>=>=>=>=>=>=>=>=>=>=>=>=>=>=>=>=>=>=>=>] 100% | Count of all parsed: 336. Progress ratio: 24 %. Average price: 351 455 667 rub\n",
      " 13 | 13 page with list: [=>=>=>=>=>=>=>=>=>=>=>=>=>=>=>=>=>=>=>=>=>=>=>=>=>=>=>=>] 100% | Count of all parsed: 364. Progress ratio: 26 %. Average price: 354 210 133 rub\n",
      " 14 | 14 page with list: [=>=>=>=>=>=>=>=>=>=>=>=>=>=>=>=>=>=>=>=>=>=>=>=>=>=>=>=>] 100% | Count of all parsed: 392. Progress ratio: 28 %. Average price: 356 564 002 rub\n",
      " 15 | 15 page with list: [=>=>=>=>=>=>=>=>=>=>=>=>=>=>=>=>=>=>=>=>=>=>=>=>=>=>=>=>] 100% | Count of all parsed: 420. Progress ratio: 30 %. Average price: 358 773 272 rub\n",
      " 16 | 16 page with list: [=>=>=>=>=>=>=>=>=>=>=>=>=>=>=>=>=>=>=>=>=>=>=>=>=>=>=>=>] 100% | Count of all parsed: 438. Progress ratio: 32 %. Average price: 361 169 874 rub\n",
      " 17 | 17 page with list: [=>=>=>=>=>=>=>=>=>=>=>=>=>=>=>=>=>=>=>=>=>=>=>=>=>=>=>=>] 100% | Count of all parsed: 454. Progress ratio: 33 %. Average price: 361 523 234 rub\n",
      " 18 | 18 page with list: [=>=>=>=>=>=>=>=>=>=>=>=>=>=>=>=>=>=>=>=>=>=>=>=>=>=>=>=>] 100% | Count of all parsed: 471. Progress ratio: 34 %. Average price: 362 354 604 rub\n",
      " 19 | 19 page with list: [=>=>=>=>=>=>=>=>=>=>=>=>=>=>=>=>=>=>=>=>=>=>=>=>=>=>=>=>] 100% | Count of all parsed: 492. Progress ratio: 36 %. Average price: 364 405 477 rub\n",
      " 20 | 20 page with list: [=>=>=>=>=>=>=>=>=>=>=>=>=>=>=>=>=>=>=>=>=>=>=>=>=>=>=>=>] 100% | Count of all parsed: 513. Progress ratio: 37 %. Average price: 365 449 614 rub\n",
      " 21 | 21 page with list: [=>=>=>=>=>=>=>=>=>=>=>=>=>=>=>=>=>=>=>=>=>=>=>=>=>=>=>=>] 100% | Count of all parsed: 538. Progress ratio: 39 %. Average price: 369 351 786 rub\n",
      " 22 | 22 page with list: [=>=>=>=>=>=>=>=>=>=>=>=>=>=>=>=>=>=>=>=>=>=>=>=>=>=>=>=>] 100% | Count of all parsed: 559. Progress ratio: 40 %. Average price: 370 658 690 rub\n",
      " 23 | 23 page with list: [=>=>=>=>=>=>=>=>=>=>=>=>=>=>=>=>=>=>=>=>=>=>=>=>=>=>=>=>] 100% | Count of all parsed: 576. Progress ratio: 42 %. Average price: 371 150 833 rub\n",
      " 24 | 24 page with list: [=>=>=>=>=>=>=>=>=>=>=>=>=>=>=>=>=>=>=>=>=>=>=>=>=>=>=>=>] 100% | Count of all parsed: 600. Progress ratio: 43 %. Average price: 373 336 715 rub\n",
      " 25 | 25 page with list: [=>=>=>=>=>=>=>=>=>=>=>=>=>=>=>=>=>=>=>=>=>=>=>=>=>=>=>=>] 100% | Count of all parsed: 628. Progress ratio: 45 %. Average price: 373 831 764 rub\n",
      " 26 | 26 page with list: [=>=>=>=>=>=>=>=>=>=>=>=>=>=>=>=>=>=>=>=>=>=>=>=>=>=>=>=>] 100% | Count of all parsed: 655. Progress ratio: 47 %. Average price: 374 856 861 rub\n",
      " 27 | 27 page with list: [=>=>=>=>=>=>=>=>=>=>=>=>=>=>=>=>=>=>=>=>=>=>=>=>=>=>=>=>] 100% | Count of all parsed: 682. Progress ratio: 49 %. Average price: 376 179 822 rub\n",
      " 28 | 28 page with list: [=>=>=>=>=>=>=>=>=>=>=>=>=>=>=>=>=>=>=>=>=>=>=>=>=>=>=>=>] 100% | Count of all parsed: 707. Progress ratio: 51 %. Average price: 377 274 665 rub\n",
      " 29 | 29 page with list: [=>=>=>=>=>=>=>=>=>=>=>=>=>=>=>=>=>=>=>=>=>=>=>=>=>=>=>=>] 100% | Count of all parsed: 735. Progress ratio: 53 %. Average price: 378 240 252 rub\n",
      " 30 | 30 page with list: [=>=>=>=>=>=>=>=>=>=>=>=>=>=>=>=>=>=>=>=>=>=>=>=>=>=>=>=>] 100% | Count of all parsed: 763. Progress ratio: 55 %. Average price: 378 794 724 rub\n",
      " 31 | 31 page with list: [=>=>=>=>=>=>=>=>=>=>=>=>=>=>=>=>=>=>=>=>=>=>=>=>=>=>=>=>] 100% | Count of all parsed: 791. Progress ratio: 57 %. Average price: 379 244 848 rub\n",
      " 32 | 32 page with list: [=>=>=>=>=>=>=>=>=>=>=>=>=>=>=>=>=>=>=>=>=>=>=>=>=>=>=>=>] 100% | Count of all parsed: 819. Progress ratio: 59 %. Average price: 379 835 965 rub\n",
      " 33 | 33 page with list: [=>=>=>=>=>=>=>=>=>=>=>=>=>=>=>=>=>=>=>=>=>=>=>=>=>=>=>=>] 100% | Count of all parsed: 847. Progress ratio: 61 %. Average price: 380 603 165 rub\n",
      " 34 | 34 page with list: [=>=>=>=>=>=>=>=>=>=>=>=>=>=>=>=>=>=>=>=>=>=>=>=>=>=>=>=>] 100% | Count of all parsed: 875. Progress ratio: 63 %. Average price: 381 834 016 rub\n",
      " 35 | 35 page with list: [=>=>=>=>=>=>=>=>=>=>=>=>=>=>=>=>=>=>=>=>=>=>=>=>=>=>=>=>] 100% | Count of all parsed: 903. Progress ratio: 65 %. Average price: 383 066 064 rub\n",
      " 36 | 36 page with list: [=>=>=>=>=>=>=>=>=>=>=>=>=>=>=>=>=>=>=>=>=>=>=>=>=>=>=>=>] 100% | Count of all parsed: 931. Progress ratio: 67 %. Average price: 383 830 690 rub\n",
      " 37 | 37 page with list: [=>=>=>=>=>=>=>=>=>=>=>=>=>=>=>=>=>=>=>=>=>=>=>=>=>=>=>=>] 100% | Count of all parsed: 959. Progress ratio: 69 %. Average price: 385 706 172 rub\n",
      " 38 | 38 page with list: [=>=>=>=>=>=>=>=>=>=>=>=>=>=>=>=>=>=>=>=>=>=>=>=>=>=>=>=>] 100% | Count of all parsed: 987. Progress ratio: 71 %. Average price: 386 103 789 rub\n",
      " 39 | 39 page with list: [=>=>=>=>=>=>=>=>=>=>=>=>=>=>=>=>=>=>=>=>=>=>=>=>=>=>=>=>] 100% | Count of all parsed: 1015. Progress ratio: 73 %. Average price: 386 346 135 rub\n",
      " 40 | 40 page with list: [=>=>=>=>=>=>=>=>=>=>=>=>=>=>=>=>=>=>=>=>=>=>=>=>=>=>=>=>] 100% | Count of all parsed: 1043. Progress ratio: 75 %. Average price: 386 605 461 rub\n",
      " 41 | 41 page with list: [=>=>=>=>=>=>=>=>=>=>=>=>=>=>=>=>=>=>=>=>=>=>=>=>=>=>=>=>] 100% | Count of all parsed: 1071. Progress ratio: 77 %. Average price: 386 876 482 rub\n",
      " 42 | 42 page with list: [=>=>=>=>=>=>=>=>=>=>=>=>=>=>=>=>=>=>=>=>=>=>=>=>=>=>=>=>] 100% | Count of all parsed: 1099. Progress ratio: 79 %. Average price: 387 151 096 rub\n",
      " 43 | 43 page with list: [=>=>=>=>=>=>=>=>=>=>=>=>=>=>=>=>=>=>=>=>=>=>=>=>=>=>=>=>] 100% | Count of all parsed: 1127. Progress ratio: 81 %. Average price: 387 431 093 rub\n",
      " 44 | 44 page with list: [=>=>=>=>=>=>=>=>=>=>=>=>=>=>=>=>=>=>=>=>=>=>=>=>=>=>=>=>] 100% | Count of all parsed: 1154. Progress ratio: 83 %. Average price: 387 705 757 rub\n",
      " 45 | 45 page with list: [=>=>=>=>=>=>=>=>=>=>=>=>=>=>=>=>=>=>=>=>=>=>=>=>=>=>=>=>] 100% | Count of all parsed: 1182. Progress ratio: 85 %. Average price: 387 999 098 rub\n",
      " 46 | 46 page with list: [=>=>=>=>=>=>=>=>=>=>=>=>=>=>=>=>=>=>=>=>=>=>=>=>=>=>=>=>] 100% | Count of all parsed: 1210. Progress ratio: 87 %. Average price: 388 299 078 rub\n",
      " 47 | 47 page with list: [=>=>=>=>=>=>=>=>=>=>=>=>=>=>=>=>=>=>=>=>=>=>=>=>=>=>=>=>] 100% | Count of all parsed: 1238. Progress ratio: 89 %. Average price: 388 606 407 rub\n",
      " 48 | 48 page with list: [=>=>=>=>=>=>=>=>=>=>=>=>=>=>=>=>=>=>=>=>=>=>=>=>=>=>=>=>] 100% | Count of all parsed: 1266. Progress ratio: 91 %. Average price: 388 925 277 rub\n",
      " 49 | 49 page with list: [=>=>=>=>=>=>=>=>=>=>=>=>=>=>=>=>=>=>=>=>=>=>=>=>=>=>=>=>] 100% | Count of all parsed: 1294. Progress ratio: 93 %. Average price: 389 248 793 rub\n",
      " 50 | 50 page with list: [=>=>=>=>=>=>=>=>=>=>=>=>=>=>=>=>=>=>=>=>=>=>=>=>=>=>=>=>] 100% | Count of all parsed: 1322. Progress ratio: 95 %. Average price: 389 579 869 rub\n",
      "\n",
      "The collection of information from the pages with list of offers is completed\n",
      "Total number of parsed offers: 1322. \n"
     ]
    }
   ],
   "source": [
    "import cianparser\n",
    "\n",
    "moscow_parser = cianparser.CianParser(location=\"Москва\")\n",
    "data = moscow_parser.get_flats(deal_type=\"sale\", rooms=(1, 2), with_saving_csv=True, additional_settings={\"start_page\":1, \"end_page\":50})"
   ]
  },
  {
   "cell_type": "code",
   "execution_count": 19,
   "id": "7b7547a0-1e38-4ad4-b3ad-2b496f844de9",
   "metadata": {},
   "outputs": [],
   "source": [
    "df = pd.DataFrame(data)"
   ]
  },
  {
   "cell_type": "code",
   "execution_count": 20,
   "id": "c101d276-6807-494d-8c48-45ddd1da8e1c",
   "metadata": {},
   "outputs": [
    {
     "data": {
      "text/plain": [
       "(1322, 16)"
      ]
     },
     "execution_count": 20,
     "metadata": {},
     "output_type": "execute_result"
    }
   ],
   "source": [
    "df.shape"
   ]
  },
  {
   "cell_type": "code",
   "execution_count": 21,
   "id": "06f4b58f-879b-40fb-9951-147fd476826e",
   "metadata": {},
   "outputs": [],
   "source": [
    "df.to_excel(\"cian_data.xlsx\", index=False)"
   ]
  },
  {
   "cell_type": "code",
   "execution_count": 22,
   "id": "062a0d5b-dc8f-491b-8ef3-b1c99aa0ba43",
   "metadata": {},
   "outputs": [],
   "source": [
    "df.to_csv(\"cian_data.xlsx\", index=False)"
   ]
  },
  {
   "cell_type": "code",
   "execution_count": 26,
   "id": "372a8709-0f29-4681-ab48-110d6c319e17",
   "metadata": {},
   "outputs": [],
   "source": [
    "df.to_pickle(\"cian_data.pickle\")"
   ]
  },
  {
   "cell_type": "code",
   "execution_count": 31,
   "id": "9abe81c7-0989-4d17-b077-3434c8ae9fcd",
   "metadata": {},
   "outputs": [],
   "source": [
    "import sqlite3\n",
    "\n",
    "conn = sqlite3.connect('cian_database')"
   ]
  },
  {
   "cell_type": "code",
   "execution_count": 32,
   "id": "8019389b-1b19-4ed8-a26b-d09a9e49d89f",
   "metadata": {},
   "outputs": [],
   "source": [
    "df.to_sql('cian_data', conn, if_exists='replace', index = False)\n",
    "conn.commit()\n",
    "conn.close()"
   ]
  },
  {
   "cell_type": "code",
   "execution_count": null,
   "id": "a767d06b-a760-41ac-8d3f-0f9efdb8ff42",
   "metadata": {},
   "outputs": [],
   "source": []
  }
 ],
 "metadata": {
  "kernelspec": {
   "display_name": "Python 3 (ipykernel)",
   "language": "python",
   "name": "python3"
  },
  "language_info": {
   "codemirror_mode": {
    "name": "ipython",
    "version": 3
   },
   "file_extension": ".py",
   "mimetype": "text/x-python",
   "name": "python",
   "nbconvert_exporter": "python",
   "pygments_lexer": "ipython3",
   "version": "3.12.2"
  }
 },
 "nbformat": 4,
 "nbformat_minor": 5
}
