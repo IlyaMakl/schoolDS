{
 "cells": [
  {
   "cell_type": "code",
   "execution_count": 1,
   "metadata": {},
   "outputs": [],
   "source": [
    "# task2.4. Реализовать на базе модели определения пола выявление с другим нормированием (относительно среднего значения). Также добавьте альтернативную функцию активации"
   ]
  },
  {
   "cell_type": "code",
   "execution_count": 2,
   "metadata": {
    "id": "9Z057psZwJQP"
   },
   "outputs": [],
   "source": [
    "import numpy as np\n",
    "\n",
    "def relu(x, alpha = 0.2):\n",
    "  return alpha * x * (x > 0)\n",
    "\n",
    "def deriv_relu(x, alpha = 0.2):\n",
    "  return (x > 0) * alpha\n",
    "\n",
    "def mse_loss(y_true, y_pred):\n",
    "  return ((y_true - y_pred) ** 2).mean()\n",
    "\n",
    "class OurNeuralNetwork:\n",
    "  def __init__(self):\n",
    "    # Weights\n",
    "    self.w1 = np.random.normal()\n",
    "    self.w2 = np.random.normal()\n",
    "    self.w3 = np.random.normal()\n",
    "    self.w4 = np.random.normal()\n",
    "    self.w5 = np.random.normal()\n",
    "    self.w6 = np.random.normal()\n",
    "\n",
    "    # Biases\n",
    "    self.b1 = np.random.normal()\n",
    "    self.b2 = np.random.normal()\n",
    "    self.b3 = np.random.normal()\n",
    "\n",
    "  def feedforward(self, x):\n",
    "    # x is a numpy array with 2 elements.\n",
    "    h1 = relu(self.w1 * x[0] + self.w2 * x[1] + self.b1)\n",
    "    h2 = relu(self.w3 * x[0] + self.w4 * x[1] + self.b2)\n",
    "    o1 = relu(self.w5 * h1 + self.w6 * h2 + self.b3)\n",
    "    return o1\n",
    "\n",
    "  def train(self, data, all_y_trues):\n",
    "    '''\n",
    "    - data is a (n x 2) numpy array, n = # of samples in the dataset.\n",
    "    - all_y_trues is a numpy array with n elements.\n",
    "      Elements in all_y_trues correspond to those in data.\n",
    "    '''\n",
    "    learn_rate = 0.01\n",
    "    epochs = 50 # number of times to loop through the entire dataset\n",
    "\n",
    "    for epoch in range(epochs):\n",
    "      for x, y_true in zip(data, all_y_trues):\n",
    "        # --- Do a feedforward (we'll need these values later)\n",
    "        sum_h1 = self.w1 * x[0] + self.w2 * x[1] + self.b1\n",
    "        h1 = relu(sum_h1)\n",
    "\n",
    "        sum_h2 = self.w3 * x[0] + self.w4 * x[1] + self.b2\n",
    "        h2 = relu(sum_h2)\n",
    "\n",
    "        sum_o1 = self.w5 * h1 + self.w6 * h2 + self.b3\n",
    "        o1 = relu(sum_o1)\n",
    "        y_pred = o1\n",
    "\n",
    "        # --- Calculate partial derivatives.\n",
    "        # --- Naming: d_L_d_w1 represents \"partial L / partial w1\"\n",
    "        d_L_d_ypred = -2 * (y_true - y_pred)\n",
    "\n",
    "        # Neuron o1\n",
    "        d_ypred_d_w5 = h1 * deriv_relu(sum_o1)\n",
    "        d_ypred_d_w6 = h2 * deriv_relu(sum_o1)\n",
    "        d_ypred_d_b3 = deriv_relu(sum_o1)\n",
    "\n",
    "        d_ypred_d_h1 = self.w5 * deriv_relu(sum_o1)\n",
    "        d_ypred_d_h2 = self.w6 * deriv_relu(sum_o1)\n",
    "\n",
    "        # Neuron h1\n",
    "        d_h1_d_w1 = x[0] * deriv_relu(sum_h1)\n",
    "        d_h1_d_w2 = x[1] * deriv_relu(sum_h1)\n",
    "        d_h1_d_b1 = deriv_relu(sum_h1)\n",
    "\n",
    "        # Neuron h2\n",
    "        d_h2_d_w3 = x[0] * deriv_relu(sum_h2)\n",
    "        d_h2_d_w4 = x[1] * deriv_relu(sum_h2)\n",
    "        d_h2_d_b2 = deriv_relu(sum_h2)\n",
    "\n",
    "        # --- Update weights and biases\n",
    "        # Neuron h1\n",
    "        self.w1 -= learn_rate * d_L_d_ypred * d_ypred_d_h1 * d_h1_d_w1\n",
    "        self.w2 -= learn_rate * d_L_d_ypred * d_ypred_d_h1 * d_h1_d_w2\n",
    "        self.b1 -= learn_rate * d_L_d_ypred * d_ypred_d_h1 * d_h1_d_b1\n",
    "\n",
    "        # Neuron h2\n",
    "        self.w3 -= learn_rate * d_L_d_ypred * d_ypred_d_h2 * d_h2_d_w3\n",
    "        self.w4 -= learn_rate * d_L_d_ypred * d_ypred_d_h2 * d_h2_d_w4\n",
    "        self.b2 -= learn_rate * d_L_d_ypred * d_ypred_d_h2 * d_h2_d_b2\n",
    "\n",
    "        # Neuron o1\n",
    "        self.w5 -= learn_rate * d_L_d_ypred * d_ypred_d_w5\n",
    "        self.w6 -= learn_rate * d_L_d_ypred * d_ypred_d_w6\n",
    "        self.b3 -= learn_rate * d_L_d_ypred * d_ypred_d_b3\n",
    "\n",
    "      # --- Calculate total loss at the end of each epoch\n",
    "      if epoch % 10 == 0:\n",
    "        y_preds = np.apply_along_axis(self.feedforward, 1, data)\n",
    "        loss = mse_loss(all_y_trues, y_preds)\n",
    "        print(\"Epoch %d loss: %.3f\" % (epoch, loss))\n"
   ]
  },
  {
   "cell_type": "code",
   "execution_count": 3,
   "metadata": {},
   "outputs": [],
   "source": [
    "import numpy as np\n",
    "\n",
    "def normalize_data(data):\n",
    "    mv = np.mean(data)\n",
    "    return (data - mv) / mv\n"
   ]
  },
  {
   "cell_type": "code",
   "execution_count": 4,
   "metadata": {},
   "outputs": [
    {
     "name": "stdout",
     "output_type": "stream",
     "text": [
      "Epoch 0 loss: 0.502\n",
      "Epoch 10 loss: 0.496\n",
      "Epoch 20 loss: 0.491\n",
      "Epoch 30 loss: 0.486\n",
      "Epoch 40 loss: 0.483\n",
      "Emily: -0.000\n",
      "Frank: 0.096\n"
     ]
    }
   ],
   "source": [
    "data = np.array([\n",
    "  [0, 1],  # Alice\n",
    "  [27, 8],   # Bob\n",
    "  [19, 6],   # Charlie\n",
    "  [-13, -4], # Diana\n",
    "])\n",
    "all_y_trues = np.array([\n",
    "  1, # Alice\n",
    "  0, # Bob\n",
    "  0, # Charlie\n",
    "  1, # Diana\n",
    "])\n",
    "\n",
    "network = OurNeuralNetwork()\n",
    "network.train(data, all_y_trues)\n",
    "emily = np.array([-7, -1])\n",
    "frank = np.array([20, 4])\n",
    "print(\"Emily: %.3f\" % network.feedforward(emily))\n",
    "print(\"Frank: %.3f\" % network.feedforward(frank))"
   ]
  },
  {
   "cell_type": "code",
   "execution_count": 5,
   "metadata": {},
   "outputs": [],
   "source": [
    "# task2.5. Реализовать экстемумы через градиентный спуск: x**2+2x-6"
   ]
  },
  {
   "cell_type": "code",
   "execution_count": 6,
   "metadata": {},
   "outputs": [
    {
     "name": "stdout",
     "output_type": "stream",
     "text": [
      "Координата x в минимуме параболы равна -1.0\n"
     ]
    }
   ],
   "source": [
    "def dJ(x):\n",
    "    return 2 * x + 2\n",
    "\n",
    " # Функция потерь\n",
    "def J(x):\n",
    "    return (x ** 2 + 2 * x - 6)\n",
    "\n",
    "x = 0.0\n",
    " # Записываем точку каждого падения градиента\n",
    "history_x=[x]\n",
    "i_iter=0.1\n",
    " # Скорость обучения\n",
    "learn_rate = 0.2\n",
    " # Выполнить градиентную итерацию\n",
    "while i_iter < 1e4:\n",
    "    i_iter += 0.1\n",
    "    dj = dJ(x)\n",
    "    last_x = x\n",
    "    x = x - learn_rate * dj\n",
    "    history_x.append(x)\n",
    "\n",
    "         # Если итерация достигнута точно, расчет завершен\n",
    "    if abs(J(x)-J(last_x))<0.0000000001 :\n",
    "        break\n",
    "\n",
    "history_y = J(np.array(history_x))\n",
    "print(f'Координата x в минимуме параболы равна {round(x, 1)}')"
   ]
  },
  {
   "cell_type": "code",
   "execution_count": null,
   "metadata": {},
   "outputs": [],
   "source": []
  }
 ],
 "metadata": {
  "colab": {
   "authorship_tag": "ABX9TyMvHXDSFXur7x9twS+Tz0ee",
   "provenance": []
  },
  "kernelspec": {
   "display_name": "Python 3 (ipykernel)",
   "language": "python",
   "name": "python3"
  },
  "language_info": {
   "codemirror_mode": {
    "name": "ipython",
    "version": 3
   },
   "file_extension": ".py",
   "mimetype": "text/x-python",
   "name": "python",
   "nbconvert_exporter": "python",
   "pygments_lexer": "ipython3",
   "version": "3.12.2"
  }
 },
 "nbformat": 4,
 "nbformat_minor": 4
}
